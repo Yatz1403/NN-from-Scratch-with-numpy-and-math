{
  "metadata": {
    "kernelspec": {
      "language": "python",
      "display_name": "Python 3",
      "name": "python3"
    },
    "language_info": {
      "name": "python",
      "version": "3.10.13",
      "mimetype": "text/x-python",
      "codemirror_mode": {
        "name": "ipython",
        "version": 3
      },
      "pygments_lexer": "ipython3",
      "nbconvert_exporter": "python",
      "file_extension": ".py"
    },
    "kaggle": {
      "accelerator": "none",
      "dataSources": [
        {
          "sourceId": 34877,
          "sourceType": "datasetVersion",
          "datasetId": 27352
        }
      ],
      "dockerImageVersionId": 30664,
      "isInternetEnabled": false,
      "language": "python",
      "sourceType": "notebook",
      "isGpuEnabled": false
    },
    "colab": {
      "name": "NNfromScratch",
      "provenance": [],
      "include_colab_link": true
    }
  },
  "nbformat_minor": 0,
  "nbformat": 4,
  "cells": [
    {
      "cell_type": "markdown",
      "metadata": {
        "id": "view-in-github",
        "colab_type": "text"
      },
      "source": [
        "<a href=\"https://colab.research.google.com/github/Yatz1403/NN-from-Scratch-with-numpy-and-math/blob/main/NNfromScratch.ipynb\" target=\"_parent\"><img src=\"https://colab.research.google.com/assets/colab-badge.svg\" alt=\"Open In Colab\"/></a>"
      ]
    },
    {
      "source": [
        "\n",
        "# IMPORTANT: RUN THIS CELL IN ORDER TO IMPORT YOUR KAGGLE DATA SOURCES\n",
        "# TO THE CORRECT LOCATION (/kaggle/input) IN YOUR NOTEBOOK,\n",
        "# THEN FEEL FREE TO DELETE THIS CELL.\n",
        "# NOTE: THIS NOTEBOOK ENVIRONMENT DIFFERS FROM KAGGLE'S PYTHON\n",
        "# ENVIRONMENT SO THERE MAY BE MISSING LIBRARIES USED BY YOUR\n",
        "# NOTEBOOK.\n",
        "\n",
        "import os\n",
        "import sys\n",
        "from tempfile import NamedTemporaryFile\n",
        "from urllib.request import urlopen\n",
        "from urllib.parse import unquote, urlparse\n",
        "from urllib.error import HTTPError\n",
        "from zipfile import ZipFile\n",
        "import tarfile\n",
        "import shutil\n",
        "\n",
        "CHUNK_SIZE = 40960\n",
        "DATA_SOURCE_MAPPING = 'mnist-in-csv:https%3A%2F%2Fstorage.googleapis.com%2Fkaggle-data-sets%2F27352%2F34877%2Fbundle%2Farchive.zip%3FX-Goog-Algorithm%3DGOOG4-RSA-SHA256%26X-Goog-Credential%3Dgcp-kaggle-com%2540kaggle-161607.iam.gserviceaccount.com%252F20240307%252Fauto%252Fstorage%252Fgoog4_request%26X-Goog-Date%3D20240307T210547Z%26X-Goog-Expires%3D259200%26X-Goog-SignedHeaders%3Dhost%26X-Goog-Signature%3D1e079a102f4c9561dde65742dd251655a6bac2db9a585d6a04976756e74f0556dfbb7e2a654aa0288e997425a07d4c9778f0d80184a272bac469dd7740a4ef25b32fdd6138f285b4ed2fe88278eae3b79e5d5ac5cd616715d154d787d69c0f3e3c9557b7e85bf8f5e7c3a9366a24d79a134e5143142fc2d97de86a49c18c4b8a302c37123320c9dd3b816adbe9b4606a99384c4716597bed2ea95cf5370738b3f9f689160067014d6b610694863bd3196b7ad6c64ff0b4e5b1dfcb0f6c7abc24128e93574b41d211258685a1c3b796f2b16b26d57d69c4e32a3edfad489d8978d1f4114a8aa33594d87a84ef60d366589d15cc85fac874f906e0b658a31f28c5'\n",
        "\n",
        "KAGGLE_INPUT_PATH='/kaggle/input'\n",
        "KAGGLE_WORKING_PATH='/kaggle/working'\n",
        "KAGGLE_SYMLINK='kaggle'\n",
        "\n",
        "!umount /kaggle/input/ 2> /dev/null\n",
        "shutil.rmtree('/kaggle/input', ignore_errors=True)\n",
        "os.makedirs(KAGGLE_INPUT_PATH, 0o777, exist_ok=True)\n",
        "os.makedirs(KAGGLE_WORKING_PATH, 0o777, exist_ok=True)\n",
        "\n",
        "try:\n",
        "  os.symlink(KAGGLE_INPUT_PATH, os.path.join(\"..\", 'input'), target_is_directory=True)\n",
        "except FileExistsError:\n",
        "  pass\n",
        "try:\n",
        "  os.symlink(KAGGLE_WORKING_PATH, os.path.join(\"..\", 'working'), target_is_directory=True)\n",
        "except FileExistsError:\n",
        "  pass\n",
        "\n",
        "for data_source_mapping in DATA_SOURCE_MAPPING.split(','):\n",
        "    directory, download_url_encoded = data_source_mapping.split(':')\n",
        "    download_url = unquote(download_url_encoded)\n",
        "    filename = urlparse(download_url).path\n",
        "    destination_path = os.path.join(KAGGLE_INPUT_PATH, directory)\n",
        "    try:\n",
        "        with urlopen(download_url) as fileres, NamedTemporaryFile() as tfile:\n",
        "            total_length = fileres.headers['content-length']\n",
        "            print(f'Downloading {directory}, {total_length} bytes compressed')\n",
        "            dl = 0\n",
        "            data = fileres.read(CHUNK_SIZE)\n",
        "            while len(data) > 0:\n",
        "                dl += len(data)\n",
        "                tfile.write(data)\n",
        "                done = int(50 * dl / int(total_length))\n",
        "                sys.stdout.write(f\"\\r[{'=' * done}{' ' * (50-done)}] {dl} bytes downloaded\")\n",
        "                sys.stdout.flush()\n",
        "                data = fileres.read(CHUNK_SIZE)\n",
        "            if filename.endswith('.zip'):\n",
        "              with ZipFile(tfile) as zfile:\n",
        "                zfile.extractall(destination_path)\n",
        "            else:\n",
        "              with tarfile.open(tfile.name) as tarfile:\n",
        "                tarfile.extractall(destination_path)\n",
        "            print(f'\\nDownloaded and uncompressed: {directory}')\n",
        "    except HTTPError as e:\n",
        "        print(f'Failed to load (likely expired) {download_url} to path {destination_path}')\n",
        "        continue\n",
        "    except OSError as e:\n",
        "        print(f'Failed to load {download_url} to path {destination_path}')\n",
        "        continue\n",
        "\n",
        "print('Data source import complete.')\n"
      ],
      "metadata": {
        "id": "03n5ECD8vInf"
      },
      "cell_type": "code",
      "outputs": [],
      "execution_count": null
    },
    {
      "cell_type": "code",
      "source": [
        "import numpy as np\n",
        "import pandas as pd\n",
        "from matplotlib import pyplot as plt"
      ],
      "metadata": {
        "_uuid": "8f2839f25d086af736a60e9eeb907d3b93b6e0e5",
        "_cell_guid": "b1076dfc-b9ad-4769-8c92-a6c4dae69d19",
        "execution": {
          "iopub.status.busy": "2024-03-07T20:49:46.051468Z",
          "iopub.execute_input": "2024-03-07T20:49:46.051836Z",
          "iopub.status.idle": "2024-03-07T20:49:46.057506Z",
          "shell.execute_reply.started": "2024-03-07T20:49:46.05181Z",
          "shell.execute_reply": "2024-03-07T20:49:46.056336Z"
        },
        "trusted": true,
        "id": "YB0EPX0UvInh"
      },
      "execution_count": null,
      "outputs": []
    },
    {
      "cell_type": "code",
      "source": [
        "data = pd.read_csv('/kaggle/input/mnist-in-csv/mnist_train.csv')\n"
      ],
      "metadata": {
        "execution": {
          "iopub.status.busy": "2024-03-07T20:42:48.438772Z",
          "iopub.execute_input": "2024-03-07T20:42:48.439518Z",
          "iopub.status.idle": "2024-03-07T20:42:50.549529Z",
          "shell.execute_reply.started": "2024-03-07T20:42:48.43949Z",
          "shell.execute_reply": "2024-03-07T20:42:50.548618Z"
        },
        "trusted": true,
        "id": "ASc9LJxVvIni"
      },
      "execution_count": null,
      "outputs": []
    },
    {
      "cell_type": "code",
      "source": [
        "data = np.array(data)\n",
        "m, n = data.shape\n",
        "np.random.shuffle(data) # shuffle before splitting into dev and training sets\n",
        "\n",
        "data_dev = data[0:1000].T\n",
        "Y_dev = data_dev[0]\n",
        "X_dev = data_dev[1:n]\n",
        "X_dev = X_dev / 255.\n",
        "\n",
        "data_train = data[1000:m].T\n",
        "Y_train = data_train[0]\n",
        "X_train = data_train[1:n]\n",
        "X_train = X_train / 255.\n",
        "_,m_train = X_train.shape"
      ],
      "metadata": {
        "execution": {
          "iopub.status.busy": "2024-03-07T20:55:49.236164Z",
          "iopub.execute_input": "2024-03-07T20:55:49.236563Z",
          "iopub.status.idle": "2024-03-07T20:55:49.94406Z",
          "shell.execute_reply.started": "2024-03-07T20:55:49.236535Z",
          "shell.execute_reply": "2024-03-07T20:55:49.942723Z"
        },
        "trusted": true,
        "id": "aFXVYLeTvIni"
      },
      "execution_count": null,
      "outputs": []
    },
    {
      "cell_type": "code",
      "source": [
        "def init_params():\n",
        "    W1 = np.random.rand(10, 784) - 0.5\n",
        "    b1 = np.random.rand(10, 1) - 0.5\n",
        "    W2 = np.random.rand(10, 10) - 0.5\n",
        "    b2 = np.random.rand(10, 1) - 0.5\n",
        "    return W1, b1, W2, b2\n",
        "\n",
        "def ReLU(Z):\n",
        "    return np.maximum(Z, 0)\n",
        "\n",
        "def softmax(Z):\n",
        "    A = np.exp(Z) / sum(np.exp(Z))\n",
        "    return A\n",
        "\n",
        "def forward_prop(W1, b1, W2, b2, X):\n",
        "    Z1 = W1.dot(X) + b1\n",
        "    A1 = ReLU(Z1)\n",
        "    Z2 = W2.dot(A1) + b2\n",
        "    A2 = softmax(Z2)\n",
        "    return Z1, A1, Z2, A2\n",
        "\n",
        "def ReLU_deriv(Z):\n",
        "    return Z > 0\n",
        "\n",
        "def one_hot(Y):\n",
        "    one_hot_Y = np.zeros((Y.size, Y.max() + 1))\n",
        "    one_hot_Y[np.arange(Y.size), Y] = 1\n",
        "    one_hot_Y = one_hot_Y.T\n",
        "    return one_hot_Y\n",
        "\n",
        "def backward_prop(Z1, A1, Z2, A2, W1, W2, X, Y):\n",
        "    one_hot_Y = one_hot(Y)\n",
        "    dZ2 = A2 - one_hot_Y\n",
        "    dW2 = 1 / m * dZ2.dot(A1.T)\n",
        "    db2 = 1 / m * np.sum(dZ2)\n",
        "    dZ1 = W2.T.dot(dZ2) * ReLU_deriv(Z1)\n",
        "    dW1 = 1 / m * dZ1.dot(X.T)\n",
        "    db1 = 1 / m * np.sum(dZ1)\n",
        "    return dW1, db1, dW2, db2\n",
        "\n",
        "def update_params(W1, b1, W2, b2, dW1, db1, dW2, db2, alpha):\n",
        "    W1 = W1 - alpha * dW1\n",
        "    b1 = b1 - alpha * db1\n",
        "    W2 = W2 - alpha * dW2\n",
        "    b2 = b2 - alpha * db2\n",
        "    return W1, b1, W2, b2"
      ],
      "metadata": {
        "execution": {
          "iopub.status.busy": "2024-03-07T20:55:50.875692Z",
          "iopub.execute_input": "2024-03-07T20:55:50.876787Z",
          "iopub.status.idle": "2024-03-07T20:55:50.888982Z",
          "shell.execute_reply.started": "2024-03-07T20:55:50.876748Z",
          "shell.execute_reply": "2024-03-07T20:55:50.887625Z"
        },
        "trusted": true,
        "id": "YXAQ3vUavIni"
      },
      "execution_count": null,
      "outputs": []
    },
    {
      "cell_type": "code",
      "source": [
        "def get_predictions(A2):\n",
        "    return np.argmax(A2, 0)\n",
        "\n",
        "def get_accuracy(predictions, Y):\n",
        "    print(predictions, Y)\n",
        "    return np.sum(predictions == Y) / Y.size\n",
        "\n",
        "def gradient_descent(X, Y, alpha, iterations):\n",
        "    W1, b1, W2, b2 = init_params()\n",
        "    for i in range(iterations):\n",
        "        Z1, A1, Z2, A2 = forward_prop(W1, b1, W2, b2, X)\n",
        "        dW1, db1, dW2, db2 = backward_prop(Z1, A1, Z2, A2, W1, W2, X, Y)\n",
        "        W1, b1, W2, b2 = update_params(W1, b1, W2, b2, dW1, db1, dW2, db2, alpha)\n",
        "        if i % 10 == 0:\n",
        "            print(\"Iteration: \", i)\n",
        "            predictions = get_predictions(A2)\n",
        "            print(get_accuracy(predictions, Y))\n",
        "    return W1, b1, W2, b2"
      ],
      "metadata": {
        "execution": {
          "iopub.status.busy": "2024-03-07T20:55:51.535601Z",
          "iopub.execute_input": "2024-03-07T20:55:51.535947Z",
          "iopub.status.idle": "2024-03-07T20:55:51.542914Z",
          "shell.execute_reply.started": "2024-03-07T20:55:51.535921Z",
          "shell.execute_reply": "2024-03-07T20:55:51.541796Z"
        },
        "trusted": true,
        "id": "icWsXsCUvIni"
      },
      "execution_count": null,
      "outputs": []
    },
    {
      "cell_type": "markdown",
      "source": [],
      "metadata": {
        "id": "65yYMQYNvIni"
      }
    },
    {
      "cell_type": "code",
      "source": [
        "#testting\n",
        "W1, b1, W2, b2 = gradient_descent(X_train, Y_train, 0.10, 500)"
      ],
      "metadata": {
        "execution": {
          "iopub.status.busy": "2024-03-07T20:55:53.468615Z",
          "iopub.execute_input": "2024-03-07T20:55:53.46899Z",
          "iopub.status.idle": "2024-03-07T20:56:32.591205Z",
          "shell.execute_reply.started": "2024-03-07T20:55:53.468964Z",
          "shell.execute_reply": "2024-03-07T20:56:32.589657Z"
        },
        "trusted": true,
        "id": "SoKyuHncvInj",
        "outputId": "1063bdbc-1f4c-4db0-ca3f-471df88eea34"
      },
      "execution_count": null,
      "outputs": [
        {
          "name": "stdout",
          "text": "Iteration:  0\n[9 5 9 ... 8 5 4] [8 4 0 ... 6 2 1]\n0.0503728813559322\nIteration:  10\n[9 0 8 ... 8 6 4] [8 4 0 ... 6 2 1]\n0.09272881355932204\nIteration:  20\n[2 0 0 ... 0 6 4] [8 4 0 ... 6 2 1]\n0.144\nIteration:  30\n[2 0 0 ... 0 6 4] [8 4 0 ... 6 2 1]\n0.18652542372881356\nIteration:  40\n[2 0 0 ... 0 6 0] [8 4 0 ... 6 2 1]\n0.2333898305084746\nIteration:  50\n[2 0 0 ... 0 6 0] [8 4 0 ... 6 2 1]\n0.26457627118644067\nIteration:  60\n[2 0 0 ... 8 6 0] [8 4 0 ... 6 2 1]\n0.2945762711864407\nIteration:  70\n[2 0 0 ... 1 6 1] [8 4 0 ... 6 2 1]\n0.3418135593220339\nIteration:  80\n[2 5 0 ... 1 6 1] [8 4 0 ... 6 2 1]\n0.4286440677966102\nIteration:  90\n[2 4 0 ... 1 6 1] [8 4 0 ... 6 2 1]\n0.4976271186440678\nIteration:  100\n[2 7 0 ... 1 0 1] [8 4 0 ... 6 2 1]\n0.5414237288135593\nIteration:  110\n[2 4 0 ... 7 0 1] [8 4 0 ... 6 2 1]\n0.5750847457627118\nIteration:  120\n[2 4 0 ... 7 0 1] [8 4 0 ... 6 2 1]\n0.6029661016949153\nIteration:  130\n[2 4 0 ... 7 0 1] [8 4 0 ... 6 2 1]\n0.6274237288135593\nIteration:  140\n[2 4 0 ... 7 0 1] [8 4 0 ... 6 2 1]\n0.6507796610169492\nIteration:  150\n[2 4 0 ... 6 0 1] [8 4 0 ... 6 2 1]\n0.6708474576271186\nIteration:  160\n[2 4 0 ... 6 0 1] [8 4 0 ... 6 2 1]\n0.6887457627118644\nIteration:  170\n[2 4 0 ... 6 0 1] [8 4 0 ... 6 2 1]\n0.7039830508474576\nIteration:  180\n[3 4 0 ... 6 0 1] [8 4 0 ... 6 2 1]\n0.7176949152542373\nIteration:  190\n[3 4 0 ... 6 0 1] [8 4 0 ... 6 2 1]\n0.7295254237288136\nIteration:  200\n[3 4 0 ... 6 0 1] [8 4 0 ... 6 2 1]\n0.7397627118644068\nIteration:  210\n[3 4 0 ... 6 0 1] [8 4 0 ... 6 2 1]\n0.7493898305084746\nIteration:  220\n[3 4 0 ... 6 0 1] [8 4 0 ... 6 2 1]\n0.7581016949152543\nIteration:  230\n[3 4 0 ... 6 0 1] [8 4 0 ... 6 2 1]\n0.7652203389830509\nIteration:  240\n[3 6 0 ... 6 0 1] [8 4 0 ... 6 2 1]\n0.7723559322033898\nIteration:  250\n[3 6 0 ... 6 0 1] [8 4 0 ... 6 2 1]\n0.7791186440677966\nIteration:  260\n[3 6 0 ... 6 0 1] [8 4 0 ... 6 2 1]\n0.7850338983050847\nIteration:  270\n[3 6 0 ... 6 0 1] [8 4 0 ... 6 2 1]\n0.7909152542372881\nIteration:  280\n[3 6 0 ... 6 0 1] [8 4 0 ... 6 2 1]\n0.7954915254237288\nIteration:  290\n[3 6 0 ... 6 0 1] [8 4 0 ... 6 2 1]\n0.8005254237288135\nIteration:  300\n[3 6 0 ... 6 0 1] [8 4 0 ... 6 2 1]\n0.8048135593220339\nIteration:  310\n[3 6 0 ... 6 0 1] [8 4 0 ... 6 2 1]\n0.8085423728813559\nIteration:  320\n[3 6 0 ... 6 0 1] [8 4 0 ... 6 2 1]\n0.8123728813559322\nIteration:  330\n[3 4 0 ... 6 0 1] [8 4 0 ... 6 2 1]\n0.8158474576271186\nIteration:  340\n[3 4 0 ... 6 0 1] [8 4 0 ... 6 2 1]\n0.8193898305084746\nIteration:  350\n[3 4 0 ... 6 0 1] [8 4 0 ... 6 2 1]\n0.8223050847457627\nIteration:  360\n[3 4 0 ... 6 0 1] [8 4 0 ... 6 2 1]\n0.8248983050847457\nIteration:  370\n[3 4 0 ... 6 0 1] [8 4 0 ... 6 2 1]\n0.8275593220338983\nIteration:  380\n[3 4 0 ... 6 0 1] [8 4 0 ... 6 2 1]\n0.829864406779661\nIteration:  390\n[8 4 0 ... 6 0 1] [8 4 0 ... 6 2 1]\n0.831864406779661\nIteration:  400\n[8 4 0 ... 6 0 1] [8 4 0 ... 6 2 1]\n0.834\nIteration:  410\n[8 4 0 ... 6 0 1] [8 4 0 ... 6 2 1]\n0.836\nIteration:  420\n[8 4 0 ... 6 0 1] [8 4 0 ... 6 2 1]\n0.8375423728813559\nIteration:  430\n[8 4 0 ... 6 0 1] [8 4 0 ... 6 2 1]\n0.8391186440677966\nIteration:  440\n[8 4 0 ... 6 0 1] [8 4 0 ... 6 2 1]\n0.8407457627118644\nIteration:  450\n[8 4 0 ... 6 0 1] [8 4 0 ... 6 2 1]\n0.8421355932203389\nIteration:  460\n[8 4 0 ... 6 0 1] [8 4 0 ... 6 2 1]\n0.8438813559322034\nIteration:  470\n[8 4 0 ... 6 0 1] [8 4 0 ... 6 2 1]\n0.8452542372881356\nIteration:  480\n[8 4 0 ... 6 0 1] [8 4 0 ... 6 2 1]\n0.8466101694915255\nIteration:  490\n[8 4 0 ... 6 0 1] [8 4 0 ... 6 2 1]\n0.8482033898305085\n",
          "output_type": "stream"
        }
      ]
    },
    {
      "cell_type": "code",
      "source": [
        "def make_predictions(X, W1, b1, W2, b2):\n",
        "    _, _, _, A2 = forward_prop(W1, b1, W2, b2, X)\n",
        "    predictions = get_predictions(A2)\n",
        "    return predictions\n",
        "\n",
        "def test_prediction(index, W1, b1, W2, b2):\n",
        "    current_image = X_train[:, index, None]\n",
        "    prediction = make_predictions(X_train[:, index, None], W1, b1, W2, b2)\n",
        "    label = Y_train[index]\n",
        "    print(\"Prediction: \", prediction)\n",
        "    print(\"Label: \", label)\n",
        "\n",
        "    current_image = current_image.reshape((28, 28)) * 255\n",
        "    plt.gray()\n",
        "    plt.imshow(current_image, interpolation='nearest')\n",
        "    plt.show()"
      ],
      "metadata": {
        "execution": {
          "iopub.status.busy": "2024-03-07T20:56:35.572216Z",
          "iopub.execute_input": "2024-03-07T20:56:35.572542Z",
          "iopub.status.idle": "2024-03-07T20:56:35.57974Z",
          "shell.execute_reply.started": "2024-03-07T20:56:35.572517Z",
          "shell.execute_reply": "2024-03-07T20:56:35.578964Z"
        },
        "trusted": true,
        "id": "ASlwrKQRvInk"
      },
      "execution_count": null,
      "outputs": []
    },
    {
      "cell_type": "markdown",
      "source": [],
      "metadata": {
        "id": "UVMRFxDTvInk"
      }
    },
    {
      "cell_type": "code",
      "source": [
        "test_prediction(0, W1, b1, W2, b2)\n",
        "test_prediction(1, W1, b1, W2, b2)\n",
        "test_prediction(2, W1, b1, W2, b2)\n",
        "test_prediction(3, W1, b1, W2, b2)"
      ],
      "metadata": {
        "execution": {
          "iopub.status.busy": "2024-03-07T20:56:37.23083Z",
          "iopub.execute_input": "2024-03-07T20:56:37.231502Z",
          "iopub.status.idle": "2024-03-07T20:56:37.821305Z",
          "shell.execute_reply.started": "2024-03-07T20:56:37.231474Z",
          "shell.execute_reply": "2024-03-07T20:56:37.820632Z"
        },
        "trusted": true,
        "id": "HXtk9xbwvInk",
        "outputId": "c9f37257-be2c-418e-944a-e32eb8baef0f"
      },
      "execution_count": null,
      "outputs": [
        {
          "name": "stdout",
          "text": "Prediction:  [8]\nLabel:  8\n",
          "output_type": "stream"
        },
        {
          "output_type": "display_data",
          "data": {
            "text/plain": "<Figure size 640x480 with 1 Axes>",
            "image/png": "[encoded data removed]"
          },
          "metadata": {}
        },
        {
          "name": "stdout",
          "text": "Prediction:  [4]\nLabel:  4\n",
          "output_type": "stream"
        },
        {
          "output_type": "display_data",
          "data": {
            "text/plain": "<Figure size 640x480 with 1 Axes>",
            "image/png": "[encoded data removed]"
          },
          "metadata": {}
        },
        {
          "name": "stdout",
          "text": "Prediction:  [0]\nLabel:  0\n",
          "output_type": "stream"
        },
        {
          "output_type": "display_data",
          "data": {
            "text/plain": "<Figure size 640x480 with 1 Axes>",
            "image/png": "[encoded data removed]"
          },
          "metadata": {}
        },
        {
          "name": "stdout",
          "text": "Prediction:  [5]\nLabel:  5\n",
          "output_type": "stream"
        },
        {
          "output_type": "display_data",
          "data": {
            "text/plain": "<Figure size 640x480 with 1 Axes>",
            "image/png": "[encoded data removed]"
          },
          "metadata": {}
        }
      ]
    },
    {
      "cell_type": "code",
      "source": [],
      "metadata": {
        "id": "3LUV2thwvInl"
      },
      "execution_count": null,
      "outputs": []
    }
  ]
}